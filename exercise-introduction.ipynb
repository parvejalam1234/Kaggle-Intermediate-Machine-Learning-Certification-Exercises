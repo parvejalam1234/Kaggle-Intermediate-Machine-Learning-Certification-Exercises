{
 "cells": [
  {
   "cell_type": "markdown",
   "id": "b8b7f095",
   "metadata": {
    "papermill": {
     "duration": 0.005183,
     "end_time": "2024-06-21T07:09:51.876701",
     "exception": false,
     "start_time": "2024-06-21T07:09:51.871518",
     "status": "completed"
    },
    "tags": []
   },
   "source": [
    "**This notebook is an exercise in the [Intermediate Machine Learning](https://www.kaggle.com/learn/intermediate-machine-learning) course.  You can reference the tutorial at [this link](https://www.kaggle.com/alexisbcook/introduction).**\n",
    "\n",
    "---\n"
   ]
  },
  {
   "cell_type": "markdown",
   "id": "d7c7c34b",
   "metadata": {
    "papermill": {
     "duration": 0.004419,
     "end_time": "2024-06-21T07:09:51.886317",
     "exception": false,
     "start_time": "2024-06-21T07:09:51.881898",
     "status": "completed"
    },
    "tags": []
   },
   "source": [
    "As a warm-up, you'll review some machine learning fundamentals and submit your initial results to a Kaggle competition.\n",
    "\n",
    "# Setup\n",
    "\n",
    "The questions below will give you feedback on your work. Run the following cell to set up the feedback system."
   ]
  },
  {
   "cell_type": "code",
   "execution_count": 1,
   "id": "5ed0243a",
   "metadata": {
    "execution": {
     "iopub.execute_input": "2024-06-21T07:09:51.897317Z",
     "iopub.status.busy": "2024-06-21T07:09:51.896938Z",
     "iopub.status.idle": "2024-06-21T07:09:54.461185Z",
     "shell.execute_reply": "2024-06-21T07:09:54.459861Z"
    },
    "papermill": {
     "duration": 2.572723,
     "end_time": "2024-06-21T07:09:54.463697",
     "exception": false,
     "start_time": "2024-06-21T07:09:51.890974",
     "status": "completed"
    },
    "tags": []
   },
   "outputs": [
    {
     "name": "stdout",
     "output_type": "stream",
     "text": [
      "Setup Complete\n"
     ]
    }
   ],
   "source": [
    "# Set up code checking\n",
    "import os\n",
    "if not os.path.exists(\"../input/train.csv\"):\n",
    "    os.symlink(\"../input/home-data-for-ml-course/train.csv\", \"../input/train.csv\")  \n",
    "    os.symlink(\"../input/home-data-for-ml-course/test.csv\", \"../input/test.csv\")  \n",
    "from learntools.core import binder\n",
    "binder.bind(globals())\n",
    "from learntools.ml_intermediate.ex1 import *\n",
    "print(\"Setup Complete\")"
   ]
  },
  {
   "cell_type": "markdown",
   "id": "442fafda",
   "metadata": {
    "papermill": {
     "duration": 0.004821,
     "end_time": "2024-06-21T07:09:54.474108",
     "exception": false,
     "start_time": "2024-06-21T07:09:54.469287",
     "status": "completed"
    },
    "tags": []
   },
   "source": [
    "You will work with data from the [Housing Prices Competition for Kaggle Learn Users](https://www.kaggle.com/c/home-data-for-ml-course) to predict home prices in Iowa using 79 explanatory variables describing (almost) every aspect of the homes.  \n",
    "\n",
    "![Ames Housing dataset image](https://storage.googleapis.com/kaggle-media/learn/images/lTJVG4e.png)\n",
    "\n",
    "Run the next code cell without changes to load the training and validation features in `X_train` and `X_valid`, along with the prediction targets in `y_train` and `y_valid`.  The test features are loaded in `X_test`.  (_If you need to review **features** and **prediction targets**, please check out [this short tutorial](https://www.kaggle.com/dansbecker/your-first-machine-learning-model).  To read about model **validation**, look [here](https://www.kaggle.com/dansbecker/model-validation).  Alternatively, if you'd prefer to look through a full course to review all of these topics, start [here](https://www.kaggle.com/learn/machine-learning).)_"
   ]
  },
  {
   "cell_type": "code",
   "execution_count": 2,
   "id": "e51823b8",
   "metadata": {
    "execution": {
     "iopub.execute_input": "2024-06-21T07:09:54.485948Z",
     "iopub.status.busy": "2024-06-21T07:09:54.485400Z",
     "iopub.status.idle": "2024-06-21T07:09:54.588792Z",
     "shell.execute_reply": "2024-06-21T07:09:54.587668Z"
    },
    "papermill": {
     "duration": 0.112211,
     "end_time": "2024-06-21T07:09:54.591332",
     "exception": false,
     "start_time": "2024-06-21T07:09:54.479121",
     "status": "completed"
    },
    "tags": []
   },
   "outputs": [],
   "source": [
    "import pandas as pd\n",
    "from sklearn.model_selection import train_test_split\n",
    "\n",
    "# Read the data\n",
    "X_full = pd.read_csv('../input/train.csv', index_col='Id')\n",
    "X_test_full = pd.read_csv('../input/test.csv', index_col='Id')\n",
    "\n",
    "# Obtain target and predictors\n",
    "y = X_full.SalePrice\n",
    "features = ['LotArea', 'YearBuilt', '1stFlrSF', '2ndFlrSF', 'FullBath', 'BedroomAbvGr', 'TotRmsAbvGrd']\n",
    "X = X_full[features].copy()\n",
    "X_test = X_test_full[features].copy()\n",
    "\n",
    "# Break off validation set from training data\n",
    "X_train, X_valid, y_train, y_valid = train_test_split(X, y, train_size=0.8, test_size=0.2,\n",
    "                                                      random_state=0)"
   ]
  },
  {
   "cell_type": "markdown",
   "id": "30f48268",
   "metadata": {
    "papermill": {
     "duration": 0.00481,
     "end_time": "2024-06-21T07:09:54.601214",
     "exception": false,
     "start_time": "2024-06-21T07:09:54.596404",
     "status": "completed"
    },
    "tags": []
   },
   "source": [
    "Use the next cell to print the first several rows of the data. It's a nice way to get an overview of the data you will use in your price prediction model."
   ]
  },
  {
   "cell_type": "code",
   "execution_count": 3,
   "id": "d7426d15",
   "metadata": {
    "execution": {
     "iopub.execute_input": "2024-06-21T07:09:54.612788Z",
     "iopub.status.busy": "2024-06-21T07:09:54.612424Z",
     "iopub.status.idle": "2024-06-21T07:09:54.628260Z",
     "shell.execute_reply": "2024-06-21T07:09:54.627284Z"
    },
    "papermill": {
     "duration": 0.02442,
     "end_time": "2024-06-21T07:09:54.630668",
     "exception": false,
     "start_time": "2024-06-21T07:09:54.606248",
     "status": "completed"
    },
    "tags": []
   },
   "outputs": [
    {
     "data": {
      "text/html": [
       "<div>\n",
       "<style scoped>\n",
       "    .dataframe tbody tr th:only-of-type {\n",
       "        vertical-align: middle;\n",
       "    }\n",
       "\n",
       "    .dataframe tbody tr th {\n",
       "        vertical-align: top;\n",
       "    }\n",
       "\n",
       "    .dataframe thead th {\n",
       "        text-align: right;\n",
       "    }\n",
       "</style>\n",
       "<table border=\"1\" class=\"dataframe\">\n",
       "  <thead>\n",
       "    <tr style=\"text-align: right;\">\n",
       "      <th></th>\n",
       "      <th>LotArea</th>\n",
       "      <th>YearBuilt</th>\n",
       "      <th>1stFlrSF</th>\n",
       "      <th>2ndFlrSF</th>\n",
       "      <th>FullBath</th>\n",
       "      <th>BedroomAbvGr</th>\n",
       "      <th>TotRmsAbvGrd</th>\n",
       "    </tr>\n",
       "    <tr>\n",
       "      <th>Id</th>\n",
       "      <th></th>\n",
       "      <th></th>\n",
       "      <th></th>\n",
       "      <th></th>\n",
       "      <th></th>\n",
       "      <th></th>\n",
       "      <th></th>\n",
       "    </tr>\n",
       "  </thead>\n",
       "  <tbody>\n",
       "    <tr>\n",
       "      <th>619</th>\n",
       "      <td>11694</td>\n",
       "      <td>2007</td>\n",
       "      <td>1828</td>\n",
       "      <td>0</td>\n",
       "      <td>2</td>\n",
       "      <td>3</td>\n",
       "      <td>9</td>\n",
       "    </tr>\n",
       "    <tr>\n",
       "      <th>871</th>\n",
       "      <td>6600</td>\n",
       "      <td>1962</td>\n",
       "      <td>894</td>\n",
       "      <td>0</td>\n",
       "      <td>1</td>\n",
       "      <td>2</td>\n",
       "      <td>5</td>\n",
       "    </tr>\n",
       "    <tr>\n",
       "      <th>93</th>\n",
       "      <td>13360</td>\n",
       "      <td>1921</td>\n",
       "      <td>964</td>\n",
       "      <td>0</td>\n",
       "      <td>1</td>\n",
       "      <td>2</td>\n",
       "      <td>5</td>\n",
       "    </tr>\n",
       "    <tr>\n",
       "      <th>818</th>\n",
       "      <td>13265</td>\n",
       "      <td>2002</td>\n",
       "      <td>1689</td>\n",
       "      <td>0</td>\n",
       "      <td>2</td>\n",
       "      <td>3</td>\n",
       "      <td>7</td>\n",
       "    </tr>\n",
       "    <tr>\n",
       "      <th>303</th>\n",
       "      <td>13704</td>\n",
       "      <td>2001</td>\n",
       "      <td>1541</td>\n",
       "      <td>0</td>\n",
       "      <td>2</td>\n",
       "      <td>3</td>\n",
       "      <td>6</td>\n",
       "    </tr>\n",
       "  </tbody>\n",
       "</table>\n",
       "</div>"
      ],
      "text/plain": [
       "     LotArea  YearBuilt  1stFlrSF  2ndFlrSF  FullBath  BedroomAbvGr  \\\n",
       "Id                                                                    \n",
       "619    11694       2007      1828         0         2             3   \n",
       "871     6600       1962       894         0         1             2   \n",
       "93     13360       1921       964         0         1             2   \n",
       "818    13265       2002      1689         0         2             3   \n",
       "303    13704       2001      1541         0         2             3   \n",
       "\n",
       "     TotRmsAbvGrd  \n",
       "Id                 \n",
       "619             9  \n",
       "871             5  \n",
       "93              5  \n",
       "818             7  \n",
       "303             6  "
      ]
     },
     "execution_count": 3,
     "metadata": {},
     "output_type": "execute_result"
    }
   ],
   "source": [
    "X_train.head()"
   ]
  },
  {
   "cell_type": "markdown",
   "id": "ea8768ed",
   "metadata": {
    "papermill": {
     "duration": 0.005019,
     "end_time": "2024-06-21T07:09:54.640997",
     "exception": false,
     "start_time": "2024-06-21T07:09:54.635978",
     "status": "completed"
    },
    "tags": []
   },
   "source": [
    "The next code cell defines five different random forest models.  Run this code cell without changes.  (_To review **random forests**, look [here](https://www.kaggle.com/dansbecker/random-forests)._)"
   ]
  },
  {
   "cell_type": "code",
   "execution_count": 4,
   "id": "046ec8cf",
   "metadata": {
    "execution": {
     "iopub.execute_input": "2024-06-21T07:09:54.653186Z",
     "iopub.status.busy": "2024-06-21T07:09:54.652777Z",
     "iopub.status.idle": "2024-06-21T07:09:54.659297Z",
     "shell.execute_reply": "2024-06-21T07:09:54.658194Z"
    },
    "papermill": {
     "duration": 0.01523,
     "end_time": "2024-06-21T07:09:54.661440",
     "exception": false,
     "start_time": "2024-06-21T07:09:54.646210",
     "status": "completed"
    },
    "tags": []
   },
   "outputs": [],
   "source": [
    "from sklearn.ensemble import RandomForestRegressor\n",
    "\n",
    "# Define the models\n",
    "model_1 = RandomForestRegressor(n_estimators=50, random_state=0)\n",
    "model_2 = RandomForestRegressor(n_estimators=100, random_state=0)\n",
    "model_3 = RandomForestRegressor(n_estimators=100, criterion='absolute_error', random_state=0)\n",
    "model_4 = RandomForestRegressor(n_estimators=200, min_samples_split=20, random_state=0)\n",
    "model_5 = RandomForestRegressor(n_estimators=100, max_depth=7, random_state=0)\n",
    "\n",
    "models = [model_1, model_2, model_3, model_4, model_5]"
   ]
  },
  {
   "cell_type": "markdown",
   "id": "c85e2cd5",
   "metadata": {
    "papermill": {
     "duration": 0.004999,
     "end_time": "2024-06-21T07:09:54.671711",
     "exception": false,
     "start_time": "2024-06-21T07:09:54.666712",
     "status": "completed"
    },
    "tags": []
   },
   "source": [
    "To select the best model out of the five, we define a function `score_model()` below.  This function returns the mean absolute error (MAE) from the validation set.  Recall that the best model will obtain the lowest MAE.  (_To review **mean absolute error**, look [here](https://www.kaggle.com/dansbecker/model-validation).)_\n",
    "\n",
    "Run the code cell without changes."
   ]
  },
  {
   "cell_type": "code",
   "execution_count": 5,
   "id": "572ce412",
   "metadata": {
    "execution": {
     "iopub.execute_input": "2024-06-21T07:09:54.683680Z",
     "iopub.status.busy": "2024-06-21T07:09:54.683308Z",
     "iopub.status.idle": "2024-06-21T07:09:59.911176Z",
     "shell.execute_reply": "2024-06-21T07:09:59.909903Z"
    },
    "papermill": {
     "duration": 5.237009,
     "end_time": "2024-06-21T07:09:59.913899",
     "exception": false,
     "start_time": "2024-06-21T07:09:54.676890",
     "status": "completed"
    },
    "tags": []
   },
   "outputs": [
    {
     "name": "stdout",
     "output_type": "stream",
     "text": [
      "Model 1 MAE: 24015\n",
      "Model 2 MAE: 23740\n",
      "Model 3 MAE: 23528\n",
      "Model 4 MAE: 23996\n",
      "Model 5 MAE: 23706\n"
     ]
    }
   ],
   "source": [
    "from sklearn.metrics import mean_absolute_error\n",
    "\n",
    "# Function for comparing different models\n",
    "def score_model(model, X_t=X_train, X_v=X_valid, y_t=y_train, y_v=y_valid):\n",
    "    model.fit(X_t, y_t)\n",
    "    preds = model.predict(X_v)\n",
    "    return mean_absolute_error(y_v, preds)\n",
    "\n",
    "for i in range(0, len(models)):\n",
    "    mae = score_model(models[i])\n",
    "    print(\"Model %d MAE: %d\" % (i+1, mae))"
   ]
  },
  {
   "cell_type": "markdown",
   "id": "075544a2",
   "metadata": {
    "papermill": {
     "duration": 0.008195,
     "end_time": "2024-06-21T07:09:59.930718",
     "exception": false,
     "start_time": "2024-06-21T07:09:59.922523",
     "status": "completed"
    },
    "tags": []
   },
   "source": [
    "# Step 1: Evaluate several models\n",
    "\n",
    "Use the above results to fill in the line below.  Which model is the best model?  Your answer should be one of `model_1`, `model_2`, `model_3`, `model_4`, or `model_5`."
   ]
  },
  {
   "cell_type": "code",
   "execution_count": 6,
   "id": "2f7658d1",
   "metadata": {
    "execution": {
     "iopub.execute_input": "2024-06-21T07:09:59.944588Z",
     "iopub.status.busy": "2024-06-21T07:09:59.944134Z",
     "iopub.status.idle": "2024-06-21T07:09:59.953312Z",
     "shell.execute_reply": "2024-06-21T07:09:59.952320Z"
    },
    "papermill": {
     "duration": 0.018435,
     "end_time": "2024-06-21T07:09:59.955648",
     "exception": false,
     "start_time": "2024-06-21T07:09:59.937213",
     "status": "completed"
    },
    "tags": []
   },
   "outputs": [
    {
     "data": {
      "application/javascript": [
       "parent.postMessage({\"jupyterEvent\": \"custom.exercise_interaction\", \"data\": {\"outcomeType\": 1, \"valueTowardsCompletion\": 0.5, \"interactionType\": 1, \"questionType\": 2, \"questionId\": \"1_BestModel\", \"learnToolsVersion\": \"0.3.4\", \"failureMessage\": \"\", \"exceptionClass\": \"\", \"trace\": \"\"}}, \"*\")"
      ],
      "text/plain": [
       "<IPython.core.display.Javascript object>"
      ]
     },
     "metadata": {},
     "output_type": "display_data"
    },
    {
     "data": {
      "text/markdown": [
       "<span style=\"color:#33cc33\">Correct</span>"
      ],
      "text/plain": [
       "Correct"
      ]
     },
     "metadata": {},
     "output_type": "display_data"
    }
   ],
   "source": [
    "# Fill in the best model\n",
    "best_model = model_3\n",
    "\n",
    "# Check your answer\n",
    "step_1.check()"
   ]
  },
  {
   "cell_type": "code",
   "execution_count": 7,
   "id": "bcb1a107",
   "metadata": {
    "execution": {
     "iopub.execute_input": "2024-06-21T07:09:59.969896Z",
     "iopub.status.busy": "2024-06-21T07:09:59.968841Z",
     "iopub.status.idle": "2024-06-21T07:09:59.975036Z",
     "shell.execute_reply": "2024-06-21T07:09:59.973982Z"
    },
    "papermill": {
     "duration": 0.016279,
     "end_time": "2024-06-21T07:09:59.977728",
     "exception": false,
     "start_time": "2024-06-21T07:09:59.961449",
     "status": "completed"
    },
    "tags": []
   },
   "outputs": [],
   "source": [
    "# Lines below will give you a hint or solution code\n",
    "# step_1.hint()\n",
    "#step_1.solution()"
   ]
  },
  {
   "cell_type": "markdown",
   "id": "76ee4d6d",
   "metadata": {
    "papermill": {
     "duration": 0.006643,
     "end_time": "2024-06-21T07:09:59.993375",
     "exception": false,
     "start_time": "2024-06-21T07:09:59.986732",
     "status": "completed"
    },
    "tags": []
   },
   "source": [
    "# Step 2: Generate test predictions\n",
    "\n",
    "Great. You know how to evaluate what makes an accurate model. Now it's time to go through the modeling process and make predictions. In the line below, create a Random Forest model with the variable name `my_model`."
   ]
  },
  {
   "cell_type": "code",
   "execution_count": 8,
   "id": "9c269232",
   "metadata": {
    "execution": {
     "iopub.execute_input": "2024-06-21T07:10:00.007263Z",
     "iopub.status.busy": "2024-06-21T07:10:00.006771Z",
     "iopub.status.idle": "2024-06-21T07:10:00.016289Z",
     "shell.execute_reply": "2024-06-21T07:10:00.015276Z"
    },
    "papermill": {
     "duration": 0.019565,
     "end_time": "2024-06-21T07:10:00.018826",
     "exception": false,
     "start_time": "2024-06-21T07:09:59.999261",
     "status": "completed"
    },
    "tags": []
   },
   "outputs": [
    {
     "data": {
      "application/javascript": [
       "parent.postMessage({\"jupyterEvent\": \"custom.exercise_interaction\", \"data\": {\"outcomeType\": 1, \"valueTowardsCompletion\": 0.5, \"interactionType\": 1, \"questionType\": 2, \"questionId\": \"2_Predictions\", \"learnToolsVersion\": \"0.3.4\", \"failureMessage\": \"\", \"exceptionClass\": \"\", \"trace\": \"\"}}, \"*\")"
      ],
      "text/plain": [
       "<IPython.core.display.Javascript object>"
      ]
     },
     "metadata": {},
     "output_type": "display_data"
    },
    {
     "data": {
      "text/markdown": [
       "<span style=\"color:#33cc33\">Correct</span>"
      ],
      "text/plain": [
       "Correct"
      ]
     },
     "metadata": {},
     "output_type": "display_data"
    }
   ],
   "source": [
    "# Define a model\n",
    "my_model = RandomForestRegressor(random_state=1) # Your code here\n",
    "\n",
    "# Check your answer\n",
    "step_2.check()"
   ]
  },
  {
   "cell_type": "code",
   "execution_count": 9,
   "id": "b3c5fe7c",
   "metadata": {
    "execution": {
     "iopub.execute_input": "2024-06-21T07:10:00.036410Z",
     "iopub.status.busy": "2024-06-21T07:10:00.035944Z",
     "iopub.status.idle": "2024-06-21T07:10:00.040706Z",
     "shell.execute_reply": "2024-06-21T07:10:00.039666Z"
    },
    "papermill": {
     "duration": 0.01555,
     "end_time": "2024-06-21T07:10:00.043190",
     "exception": false,
     "start_time": "2024-06-21T07:10:00.027640",
     "status": "completed"
    },
    "tags": []
   },
   "outputs": [],
   "source": [
    "# Lines below will give you a hint or solution code\n",
    "#step_2.hint()\n",
    "#step_2.solution()"
   ]
  },
  {
   "cell_type": "markdown",
   "id": "cb1ce58b",
   "metadata": {
    "papermill": {
     "duration": 0.006098,
     "end_time": "2024-06-21T07:10:00.055633",
     "exception": false,
     "start_time": "2024-06-21T07:10:00.049535",
     "status": "completed"
    },
    "tags": []
   },
   "source": [
    "Run the next code cell without changes.  The code fits the model to the training and validation data, and then generates test predictions that are saved to a CSV file.  These test predictions can be submitted directly to the competition!"
   ]
  },
  {
   "cell_type": "code",
   "execution_count": 10,
   "id": "16fc6521",
   "metadata": {
    "execution": {
     "iopub.execute_input": "2024-06-21T07:10:00.070100Z",
     "iopub.status.busy": "2024-06-21T07:10:00.069602Z",
     "iopub.status.idle": "2024-06-21T07:10:00.755040Z",
     "shell.execute_reply": "2024-06-21T07:10:00.753849Z"
    },
    "papermill": {
     "duration": 0.696998,
     "end_time": "2024-06-21T07:10:00.758941",
     "exception": false,
     "start_time": "2024-06-21T07:10:00.061943",
     "status": "completed"
    },
    "tags": []
   },
   "outputs": [],
   "source": [
    "# Fit the model to the training data\n",
    "my_model.fit(X, y)\n",
    "\n",
    "# Generate test predictions\n",
    "preds_test = my_model.predict(X_test)\n",
    "\n",
    "# Save predictions in format used for competition scoring\n",
    "output = pd.DataFrame({'Id': X_test.index,\n",
    "                       'SalePrice': preds_test})\n",
    "output.to_csv('submission.csv', index=False)"
   ]
  },
  {
   "cell_type": "markdown",
   "id": "719797ef",
   "metadata": {
    "papermill": {
     "duration": 0.006906,
     "end_time": "2024-06-21T07:10:00.773047",
     "exception": false,
     "start_time": "2024-06-21T07:10:00.766141",
     "status": "completed"
    },
    "tags": []
   },
   "source": [
    "# Submit your results\n",
    "\n",
    "Once you have successfully completed Step 2, you're ready to submit your results to the leaderboard!  First, you'll need to join the competition if you haven't already.  So open a new window by clicking on [this link](https://www.kaggle.com/c/home-data-for-ml-course).  Then click on the **Join Competition** button.  _(If you see a \"Submit Predictions\" button instead of a \"Join Competition\" button, you have already joined the competition, and don't need to do so again.)_\n",
    "\n",
    "Next, follow the instructions below:\n",
    "1. Begin by clicking on the **Save Version** button in the top right corner of the window.  This will generate a pop-up window.  \n",
    "2. Ensure that the **Save and Run All** option is selected, and then click on the **Save** button.\n",
    "3. This generates a window in the bottom left corner of the notebook.  After it has finished running, click on the number to the right of the **Save Version** button.  This pulls up a list of versions on the right of the screen.  Click on the ellipsis **(...)** to the right of the most recent version, and select **Open in Viewer**.  This brings you into view mode of the same page. You will need to scroll down to get back to these instructions.\n",
    "4. Click on the **Data** tab near the top of the screen.  Then, click on the file you would like to submit, and click on the **Submit** button to submit your results to the leaderboard.\n",
    "\n",
    "You have now successfully submitted to the competition!\n",
    "\n",
    "If you want to keep working to improve your performance, select the **Edit** button in the top right of the screen. Then you can change your code and repeat the process. There's a lot of room to improve, and you will climb up the leaderboard as you work.\n"
   ]
  },
  {
   "cell_type": "markdown",
   "id": "f056f702",
   "metadata": {
    "papermill": {
     "duration": 0.006102,
     "end_time": "2024-06-21T07:10:00.787750",
     "exception": false,
     "start_time": "2024-06-21T07:10:00.781648",
     "status": "completed"
    },
    "tags": []
   },
   "source": [
    "# Keep going\n",
    "\n",
    "You've made your first model. But how can you quickly make it better?\n",
    "\n",
    "Learn how to improve your competition results by incorporating columns with **[missing values](https://www.kaggle.com/alexisbcook/missing-values)**."
   ]
  },
  {
   "cell_type": "markdown",
   "id": "977d7ed4",
   "metadata": {
    "papermill": {
     "duration": 0.006158,
     "end_time": "2024-06-21T07:10:00.801728",
     "exception": false,
     "start_time": "2024-06-21T07:10:00.795570",
     "status": "completed"
    },
    "tags": []
   },
   "source": [
    "---\n",
    "\n",
    "\n",
    "\n",
    "\n",
    "*Have questions or comments? Visit the [course discussion forum](https://www.kaggle.com/learn/intermediate-machine-learning/discussion) to chat with other learners.*"
   ]
  }
 ],
 "metadata": {
  "kaggle": {
   "accelerator": "none",
   "dataSources": [
    {
     "databundleVersionId": 111096,
     "sourceId": 10211,
     "sourceType": "competition"
    }
   ],
   "isGpuEnabled": false,
   "isInternetEnabled": false,
   "language": "python",
   "sourceType": "notebook"
  },
  "kernelspec": {
   "display_name": "Python 3",
   "language": "python",
   "name": "python3"
  },
  "language_info": {
   "codemirror_mode": {
    "name": "ipython",
    "version": 3
   },
   "file_extension": ".py",
   "mimetype": "text/x-python",
   "name": "python",
   "nbconvert_exporter": "python",
   "pygments_lexer": "ipython3",
   "version": "3.10.13"
  },
  "papermill": {
   "default_parameters": {},
   "duration": 12.602425,
   "end_time": "2024-06-21T07:10:01.634207",
   "environment_variables": {},
   "exception": null,
   "input_path": "__notebook__.ipynb",
   "output_path": "__notebook__.ipynb",
   "parameters": {},
   "start_time": "2024-06-21T07:09:49.031782",
   "version": "2.5.0"
  }
 },
 "nbformat": 4,
 "nbformat_minor": 5
}
